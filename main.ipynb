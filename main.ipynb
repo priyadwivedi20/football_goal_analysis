{
  "nbformat": 4,
  "nbformat_minor": 0,
  "metadata": {
    "colab": {
      "provenance": [],
      "gpuType": "T4",
      "include_colab_link": true
    },
    "kernelspec": {
      "name": "python3",
      "display_name": "Python 3"
    },
    "language_info": {
      "name": "python"
    },
    "accelerator": "GPU"
  },
  "cells": [
    {
      "cell_type": "markdown",
      "metadata": {
        "id": "view-in-github",
        "colab_type": "text"
      },
      "source": [
        "<a href=\"https://colab.research.google.com/github/priyadwivedi20/football_goal_analysis/blob/main/main.ipynb\" target=\"_parent\"><img src=\"https://colab.research.google.com/assets/colab-badge.svg\" alt=\"Open In Colab\"/></a>"
      ]
    },
    {
      "cell_type": "code",
      "source": [
        "def read_video(video_path):\n",
        "    cap = cv2.VideoCapture(video_path)\n",
        "    frames = []\n",
        "    while True:\n",
        "        ret, frame = cap.read()\n",
        "        if not ret:\n",
        "            break\n",
        "        frames.append(frame)\n",
        "    cap.release()\n",
        "    return frames\n",
        "\n",
        "def save_video(output_video_frames, output_video_path):\n",
        "    fourcc = cv2.VideoWriter_fourcc(*'MJPG')\n",
        "    out = cv2.VideoWriter(output_video_path, fourcc, 24, (output_video_frames[0].shape[1], output_video_frames[0].shape[0]))\n",
        "    for frame in output_video_frames:\n",
        "        out.write(frame)\n",
        "    out.release()"
      ],
      "metadata": {
        "id": "xVJeZNFkojIG"
      },
      "execution_count": null,
      "outputs": []
    },
    {
      "cell_type": "code",
      "source": [
        "!pip install ultralytics"
      ],
      "metadata": {
        "id": "CC5egPlLPXqh"
      },
      "execution_count": null,
      "outputs": []
    },
    {
      "cell_type": "code",
      "source": [
        "from ultralytics import YOLO\n",
        "import cv2\n",
        "import pickle\n",
        "import pandas as pd\n",
        "\n",
        "class BallTracker:\n",
        "    def __init__(self,model_path):\n",
        "        self.model = YOLO(model_path)\n",
        "\n",
        "    def interpolate_ball_positions(self, ball_positions):\n",
        "        ball_positions = [x.get(1,[]) for x in ball_positions]\n",
        "        # convert the list into pandas dataframe\n",
        "        df_ball_positions = pd.DataFrame(ball_positions,columns=['x1','y1','x2','y2'])\n",
        "\n",
        "        # interpolate the missing values\n",
        "        df_ball_positions = df_ball_positions.interpolate()\n",
        "        df_ball_positions = df_ball_positions.bfill()\n",
        "\n",
        "        ball_positions = [{1:x} for x in df_ball_positions.to_numpy().tolist()]\n",
        "\n",
        "        return ball_positions\n",
        "\n",
        "    def detect_frames(self,frames, read_from_stub=False, stub_path=None):\n",
        "        ball_detections = []\n",
        "\n",
        "        if read_from_stub and stub_path is not None:\n",
        "            with open(stub_path, 'rb') as f:\n",
        "                ball_detections = pickle.load(f)\n",
        "            return ball_detections\n",
        "\n",
        "        for frame in frames:\n",
        "            player_dict = self.detect_frame(frame)\n",
        "            ball_detections.append(player_dict)\n",
        "\n",
        "        if stub_path is not None:\n",
        "            with open(stub_path, 'wb') as f:\n",
        "                pickle.dump(ball_detections, f)\n",
        "\n",
        "        return ball_detections\n",
        "\n",
        "    def detect_frame(self,frame):\n",
        "        results = self.model.track(frame,conf=0.15,save_txt=True)[0]\n",
        "        id_name_dict = results.names\n",
        "\n",
        "        ball_dict = {}\n",
        "        for box in results.boxes:\n",
        "          print(box)\n",
        "          track_id = int(box.id.tolist()[0])\n",
        "          result = box.xyxy.tolist()[0]\n",
        "          object_cls_id = box.cls.tolist()[0]\n",
        "          object_cls_name = id_name_dict[object_cls_id]\n",
        "          if object_cls_name == \"sports ball\":\n",
        "              ball_dict[track_id] = result\n",
        "\n",
        "        return ball_dict\n",
        "\n",
        "    def draw_bboxes(self,video_frames, player_detections):\n",
        "        output_video_frames = []\n",
        "        for frame, ball_dict in zip(video_frames, player_detections):\n",
        "            # Draw Bounding Boxes\n",
        "            for track_id, bbox in ball_dict.items():\n",
        "                x1, y1, x2, y2 = bbox\n",
        "                cv2.putText(frame, f\"Ball\",(int(bbox[0]),int(bbox[1] -10 )),cv2.FONT_HERSHEY_SIMPLEX, 0.9, (0, 255, 255), 2)\n",
        "                cv2.rectangle(frame, (int(x1), int(y1)), (int(x2), int(y2)), (0, 255, 255), 2)\n",
        "            output_video_frames.append(frame)\n",
        "\n",
        "        return output_video_frames\n",
        "\n"
      ],
      "metadata": {
        "id": "6EzveVseokA5"
      },
      "execution_count": null,
      "outputs": []
    },
    {
      "cell_type": "code",
      "execution_count": null,
      "metadata": {
        "id": "sKfu9eyDnpod"
      },
      "outputs": [],
      "source": [
        "import cv2\n",
        "import pandas as pd\n",
        "from copy import deepcopy\n",
        "\n",
        "def main():\n",
        "    # Read Video\n",
        "    input_video_path = \"input/input_video.mp4\"\n",
        "    video_frames = read_video(input_video_path)\n",
        "\n",
        "    # Detect Ball\n",
        "    ball_tracker = BallTracker(model_path='yolov8x.pt')\n",
        "\n",
        "    ball_detections = ball_tracker.detect_frames(video_frames,\n",
        "                                                     read_from_stub=False,\n",
        "                                                     stub_path=\"tracker_stubs/ball_detections.pkl\")\n",
        "\n",
        "    # ball_detections = ball_tracker.interpolate_ball_positions(ball_detections)\n",
        "\n",
        "\n",
        "    # # Draw output\n",
        "    # ## Draw Player Bounding Boxes\n",
        "    output_video_frames= ball_tracker.draw_bboxes(video_frames, ball_detections)\n",
        "\n",
        "    # ## Draw frame number on top left corner\n",
        "    # for i, frame in enumerate(output_video_frames):\n",
        "    #     cv2.putText(frame, f\"Frame: {i}\",(10,30),cv2.FONT_HERSHEY_SIMPLEX, 1, (0, 255, 0), 2)\n",
        "\n",
        "    save_video(video_frames, \"output/output_video.avi\")\n",
        "\n",
        "if __name__ == \"__main__\":\n",
        "    main()"
      ]
    },
    {
      "cell_type": "code",
      "source": [
        "import cv2\n",
        "from ultralytics import YOLO\n",
        "\n",
        "input_video_path = \"input/input_video.mp4\"\n",
        "\n",
        "video_frames = read_video(input_video_path)\n",
        "model = YOLO('yolov8x.pt')\n",
        "\n",
        "for frame in video_frames:\n",
        "  results = model.predict(frame,conf=0.15)[0]\n",
        "  id_name_dict = results.names\n",
        "\n",
        "  print('Results = ', results)\n",
        "\n",
        "  ball_dict = {}\n",
        "  for box in results.boxes:\n",
        "    track_id = int(box.id.tolist()[0])\n",
        "    result = box.xyxy.tolist()[0]\n",
        "    object_cls_id = box.cls.tolist()[0]\n",
        "    object_cls_name = id_name_dict[object_cls_id]\n",
        "    if object_cls_name == \"sports ball\":\n",
        "      ball_dict[track_id] = result\n",
        "\n",
        "ball_dict"
      ],
      "metadata": {
        "id": "uF1GulUgrkYv"
      },
      "execution_count": null,
      "outputs": []
    },
    {
      "cell_type": "code",
      "source": [],
      "metadata": {
        "id": "_dckvvF4ze4M"
      },
      "execution_count": null,
      "outputs": []
    }
  ]
}
