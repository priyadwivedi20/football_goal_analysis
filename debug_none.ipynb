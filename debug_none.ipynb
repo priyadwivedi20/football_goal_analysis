{
  "nbformat": 4,
  "nbformat_minor": 0,
  "metadata": {
    "colab": {
      "provenance": [],
      "authorship_tag": "ABX9TyPSZuyixZUUn+THYqFAtIU4",
      "include_colab_link": true
    },
    "kernelspec": {
      "name": "python3",
      "display_name": "Python 3"
    },
    "language_info": {
      "name": "python"
    }
  },
  "cells": [
    {
      "cell_type": "markdown",
      "metadata": {
        "id": "view-in-github",
        "colab_type": "text"
      },
      "source": [
        "<a href=\"https://colab.research.google.com/github/priyadwivedi20/football_goal_analysis/blob/main/debug_none.ipynb\" target=\"_parent\"><img src=\"https://colab.research.google.com/assets/colab-badge.svg\" alt=\"Open In Colab\"/></a>"
      ]
    },
    {
      "cell_type": "code",
      "source": [],
      "metadata": {
        "id": "639gxG99kcpc"
      },
      "execution_count": null,
      "outputs": []
    },
    {
      "cell_type": "code",
      "source": [
        "!pip install ultralytics"
      ],
      "metadata": {
        "id": "XYq0ag7zkd9m"
      },
      "execution_count": null,
      "outputs": []
    },
    {
      "cell_type": "code",
      "source": [
        "from ultralytics import YOLO\n",
        "import cv2\n",
        "import pickle\n",
        "import pandas as pd\n",
        "from copy import deepcopy"
      ],
      "metadata": {
        "id": "S96TAr4JkeKx"
      },
      "execution_count": null,
      "outputs": []
    },
    {
      "cell_type": "code",
      "execution_count": null,
      "metadata": {
        "id": "6568VJV1kY3u"
      },
      "outputs": [],
      "source": [
        "def read_video(video_path):\n",
        "  cap = cv2.VideoCapture(video_path)\n",
        "  frames = []\n",
        "  while True:\n",
        "      ret, frame = cap.read()\n",
        "      if not ret:\n",
        "          break\n",
        "      frames.append(frame)\n",
        "  cap.release()\n",
        "  return frames\n",
        "\n",
        "def save_video(output_video_frames, output_video_path):\n",
        "  fourcc = cv2.VideoWriter_fourcc(*'MJPG')\n",
        "  out = cv2.VideoWriter(output_video_path, fourcc, 24, (output_video_frames[0].shape[1], output_video_frames[0].shape[0]))\n",
        "  for frame in output_video_frames:\n",
        "      out.write(frame)\n",
        "  out.release()"
      ]
    },
    {
      "cell_type": "code",
      "source": [
        "def detect_frames(self,frames, read_from_stub=False, stub_path=None):\n",
        "    ball_detections = []\n",
        "\n",
        "    if read_from_stub and stub_path is not None:\n",
        "        with open(stub_path, 'rb') as f:\n",
        "            ball_detections = pickle.load(f)\n",
        "        return ball_detections\n",
        "\n",
        "    for frame in frames:\n",
        "        player_dict = self.detect_frame(frame)\n",
        "        ball_detections.append(player_dict)\n",
        "\n",
        "    if stub_path is not None:\n",
        "        with open(stub_path, 'wb') as f:\n",
        "            pickle.dump(ball_detections, f)\n",
        "\n",
        "    return ball_detections\n",
        "\n",
        "def detect_frame(self,frame):\n",
        "    results = self.model.predict(frame,conf=0.15)[0]\n",
        "    id_name_dict = results.names\n",
        "\n",
        "    ball_dict = {}\n",
        "    for box in results.boxes:\n",
        "        # track_id = int(box.id.tolist()[0])\n",
        "        result = box.xyxy.tolist()[0]\n",
        "        object_cls_id = box.cls.tolist()[0]\n",
        "        object_cls_name = id_name_dict[object_cls_id]\n",
        "        if object_cls_name == \"sports ball\":\n",
        "            ball_dict = result\n",
        "\n",
        "    return ball_dict\n",
        "\n",
        "def draw_bboxes(self,video_frames, player_detections):\n",
        "    output_video_frames = []\n",
        "    for frame, ball_dict in zip(video_frames, player_detections):\n",
        "        # Draw Bounding Boxes\n",
        "        for track_id, bbox in ball_dict.items():\n",
        "            x1, y1, x2, y2 = bbox\n",
        "            cv2.putText(frame, f\"Ball ID: {track_id}\",(int(bbox[0]),int(bbox[1] -10 )),cv2.FONT_HERSHEY_SIMPLEX, 0.9, (0, 255, 255), 2)\n",
        "            cv2.rectangle(frame, (int(x1), int(y1)), (int(x2), int(y2)), (0, 255, 255), 2)\n",
        "        output_video_frames.append(frame)\n",
        "\n",
        "    return output_video_frames\n"
      ],
      "metadata": {
        "id": "qFUjrakmkpsR"
      },
      "execution_count": null,
      "outputs": []
    },
    {
      "cell_type": "code",
      "source": [
        "def main():\n",
        "    # Read Video\n",
        "    input_video_path = \"input/input_wide_field.mp4\"\n",
        "    video_frames = read_video(input_video_path)\n",
        "\n",
        "    # Detect Ball\n",
        "    ball_tracker = BallTracker(model_path='models/best.pt')\n",
        "\n",
        "    ball_detections = ball_tracker.detect_frames(video_frames,\n",
        "                                                     read_from_stub=True,\n",
        "                                                     stub_path=\"tracker_stubs/ball_detections.pkl\")\n",
        "\n",
        "    ball_detections = ball_tracker.interpolate_ball_positions(ball_detections)\n",
        "\n",
        "    # Detect ball shots\n",
        "    # ball_shot_frames= ball_tracker.get_ball_shot_frames(ball_detections)\n",
        "\n",
        "\n",
        "    # # Draw output\n",
        "    # ## Draw Player Bounding Boxes\n",
        "    output_video_frames= ball_tracker.draw_bboxes(video_frames, ball_detections)\n",
        "\n",
        "    # ## Draw frame number on top left corner\n",
        "    # for i, frame in enumerate(output_video_frames):\n",
        "    #     cv2.putText(frame, f\"Frame: {i}\",(10,30),cv2.FONT_HERSHEY_SIMPLEX, 1, (0, 255, 0), 2)\n",
        "\n",
        "    save_video(video_frames, \"output/output_video_test.avi\")\n",
        "\n",
        "if __name__ == \"__main__\":\n",
        "    main()"
      ],
      "metadata": {
        "id": "vk16JmXIk8ax"
      },
      "execution_count": null,
      "outputs": []
    }
  ]
}